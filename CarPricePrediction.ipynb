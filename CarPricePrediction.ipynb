{
 "cells": [
  {
   "cell_type": "markdown",
   "metadata": {
    "collapsed": true
   },
   "source": [
    "# Predicting Car Prices Using K-Nearest-Neighbor Regression"
   ]
  },
  {
   "cell_type": "markdown",
   "metadata": {},
   "source": [
    "In this notebook, we'll be using data from the 1985 Ward's Automotive Yearbook and the K-nearest neighbors (KNN) algorithm to predict car sale prices based off their specifications.\n",
    "\n",
    "The dataset contains the specifications of new cars and their price. The dataset can found here, at the UCI Machine Learning Repository: [Automotive Data Set](https://archive.ics.uci.edu/ml/datasets/automobile)\n",
    "\n",
    "The description of the columns is listed below:\n",
    "- `symboling`:             Measure of safety on a scale of -3 to 3, positive numbers are more risky\n",
    "- `normalized-losses`:     average loss payment per insured vehicle year\n",
    "- `make`:                     the car's manufacturer \n",
    "- `fuel-type`:                diesel, gas.\n",
    "- `aspiration`:               std, turbo.\n",
    "- `num-of-doors`:             four, two.\n",
    "- `body-style`:               hardtop, wagon, sedan, hatchback, convertible.\n",
    "- `drive-wheels`:             4wd, fwd, rwd.\n",
    "- `engine-location`:          front, rear.\n",
    "- `wheel-base`:               continuous from 86.6 120.9 measured in inches\n",
    "- `length`:                   continuous from 141.1 to 208.1 measured in inches\n",
    "- `width`:                    continuous from 60.3 to 72.3 measured in inches\n",
    "- `height`:                   continuous from 47.8 to 59.8 measured in inches\n",
    "- `curb-weight`:              continuous from 1488 to 4066 measured in pounds\n",
    "- `engine-type`:              dohc, dohcv, l, ohc, ohcf, ohcv, rotor.\n",
    "- `num-of-cylinders`:         eight, five, four, six, three, twelve, two.\n",
    "- `engine-size`:              continuous from 61 to 326 in cubic inches\n",
    "- `fuel-system`:              1bbl, 2bbl, 4bbl, idi, mfi, mpfi, spdi, spfi.\n",
    "- `bore`:                     the diameter of each cylinder, continuous from 2.54 to 3.94\n",
    "- `stroke`:                   the distance travelled by the piston during each cycle, continuous from 2.07 to 4.17 \n",
    "- `compression-ratio`:         the ratio between the volume of the cylinder and combustion chamber, continuous from 7 to 23.\n",
    "- `horsepower`:               continuous from 48 to 288.\n",
    "- `peak-rpm`:                 continuous from 4150 to 6600.\n",
    "- `city-mpg`:                 miles per gallon while in city traffic, continuous from 13 to 49.\n",
    "- `highway-mpg`:              miles per gallon on the highway, continuous from 16 to 54.\n",
    "- `price`:                    in 1985 USD, continuous from 5118 to 45400."
   ]
  },
  {
   "cell_type": "code",
   "execution_count": 1,
   "metadata": {},
   "outputs": [],
   "source": [
    "import pandas as pd\n",
    "import numpy as np\n",
    "\n",
    "#dataset is missing column names, so explicitly listing them\n",
    "cols=['symboling',\n",
    "      'normalized_losses',\n",
    "      'make',\n",
    "      'fuel_type',\n",
    "      'aspiration',\n",
    "      'num_doors',\n",
    "      'body_style',\n",
    "      'drive_wheels',\n",
    "      'engine_location',\n",
    "      'wheel_base',\n",
    "      'length',\n",
    "      'width',\n",
    "      'height',\n",
    "      'curb_weight',\n",
    "      'engine_type',\n",
    "      'num_cylinders',\n",
    "      'engine_size',\n",
    "      'fuel_system',\n",
    "      'bore',\n",
    "      'stroke',\n",
    "      'compression_ratio',\n",
    "      'horsepower',\n",
    "      'peak_rpm',\n",
    "      'city_mpg',\n",
    "      'highway_mpg',\n",
    "      'price']\n",
    "\n",
    "cars=pd.read_csv('~\\\\Downloads\\\\imports-85.data',header=None,names=cols)\n"
   ]
  },
  {
   "cell_type": "code",
   "execution_count": 2,
   "metadata": {
    "scrolled": true
   },
   "outputs": [
    {
     "data": {
      "text/html": [
       "<div>\n",
       "<style scoped>\n",
       "    .dataframe tbody tr th:only-of-type {\n",
       "        vertical-align: middle;\n",
       "    }\n",
       "\n",
       "    .dataframe tbody tr th {\n",
       "        vertical-align: top;\n",
       "    }\n",
       "\n",
       "    .dataframe thead th {\n",
       "        text-align: right;\n",
       "    }\n",
       "</style>\n",
       "<table border=\"1\" class=\"dataframe\">\n",
       "  <thead>\n",
       "    <tr style=\"text-align: right;\">\n",
       "      <th></th>\n",
       "      <th>symboling</th>\n",
       "      <th>normalized_losses</th>\n",
       "      <th>make</th>\n",
       "      <th>fuel_type</th>\n",
       "      <th>aspiration</th>\n",
       "      <th>num_doors</th>\n",
       "      <th>body_style</th>\n",
       "      <th>drive_wheels</th>\n",
       "      <th>engine_location</th>\n",
       "      <th>wheel_base</th>\n",
       "      <th>...</th>\n",
       "      <th>engine_size</th>\n",
       "      <th>fuel_system</th>\n",
       "      <th>bore</th>\n",
       "      <th>stroke</th>\n",
       "      <th>compression_ratio</th>\n",
       "      <th>horsepower</th>\n",
       "      <th>peak_rpm</th>\n",
       "      <th>city_mpg</th>\n",
       "      <th>highway_mpg</th>\n",
       "      <th>price</th>\n",
       "    </tr>\n",
       "  </thead>\n",
       "  <tbody>\n",
       "    <tr>\n",
       "      <th>0</th>\n",
       "      <td>3</td>\n",
       "      <td>?</td>\n",
       "      <td>alfa-romero</td>\n",
       "      <td>gas</td>\n",
       "      <td>std</td>\n",
       "      <td>two</td>\n",
       "      <td>convertible</td>\n",
       "      <td>rwd</td>\n",
       "      <td>front</td>\n",
       "      <td>88.6</td>\n",
       "      <td>...</td>\n",
       "      <td>130</td>\n",
       "      <td>mpfi</td>\n",
       "      <td>3.47</td>\n",
       "      <td>2.68</td>\n",
       "      <td>9.0</td>\n",
       "      <td>111</td>\n",
       "      <td>5000</td>\n",
       "      <td>21</td>\n",
       "      <td>27</td>\n",
       "      <td>13495</td>\n",
       "    </tr>\n",
       "    <tr>\n",
       "      <th>1</th>\n",
       "      <td>3</td>\n",
       "      <td>?</td>\n",
       "      <td>alfa-romero</td>\n",
       "      <td>gas</td>\n",
       "      <td>std</td>\n",
       "      <td>two</td>\n",
       "      <td>convertible</td>\n",
       "      <td>rwd</td>\n",
       "      <td>front</td>\n",
       "      <td>88.6</td>\n",
       "      <td>...</td>\n",
       "      <td>130</td>\n",
       "      <td>mpfi</td>\n",
       "      <td>3.47</td>\n",
       "      <td>2.68</td>\n",
       "      <td>9.0</td>\n",
       "      <td>111</td>\n",
       "      <td>5000</td>\n",
       "      <td>21</td>\n",
       "      <td>27</td>\n",
       "      <td>16500</td>\n",
       "    </tr>\n",
       "    <tr>\n",
       "      <th>2</th>\n",
       "      <td>1</td>\n",
       "      <td>?</td>\n",
       "      <td>alfa-romero</td>\n",
       "      <td>gas</td>\n",
       "      <td>std</td>\n",
       "      <td>two</td>\n",
       "      <td>hatchback</td>\n",
       "      <td>rwd</td>\n",
       "      <td>front</td>\n",
       "      <td>94.5</td>\n",
       "      <td>...</td>\n",
       "      <td>152</td>\n",
       "      <td>mpfi</td>\n",
       "      <td>2.68</td>\n",
       "      <td>3.47</td>\n",
       "      <td>9.0</td>\n",
       "      <td>154</td>\n",
       "      <td>5000</td>\n",
       "      <td>19</td>\n",
       "      <td>26</td>\n",
       "      <td>16500</td>\n",
       "    </tr>\n",
       "    <tr>\n",
       "      <th>3</th>\n",
       "      <td>2</td>\n",
       "      <td>164</td>\n",
       "      <td>audi</td>\n",
       "      <td>gas</td>\n",
       "      <td>std</td>\n",
       "      <td>four</td>\n",
       "      <td>sedan</td>\n",
       "      <td>fwd</td>\n",
       "      <td>front</td>\n",
       "      <td>99.8</td>\n",
       "      <td>...</td>\n",
       "      <td>109</td>\n",
       "      <td>mpfi</td>\n",
       "      <td>3.19</td>\n",
       "      <td>3.40</td>\n",
       "      <td>10.0</td>\n",
       "      <td>102</td>\n",
       "      <td>5500</td>\n",
       "      <td>24</td>\n",
       "      <td>30</td>\n",
       "      <td>13950</td>\n",
       "    </tr>\n",
       "    <tr>\n",
       "      <th>4</th>\n",
       "      <td>2</td>\n",
       "      <td>164</td>\n",
       "      <td>audi</td>\n",
       "      <td>gas</td>\n",
       "      <td>std</td>\n",
       "      <td>four</td>\n",
       "      <td>sedan</td>\n",
       "      <td>4wd</td>\n",
       "      <td>front</td>\n",
       "      <td>99.4</td>\n",
       "      <td>...</td>\n",
       "      <td>136</td>\n",
       "      <td>mpfi</td>\n",
       "      <td>3.19</td>\n",
       "      <td>3.40</td>\n",
       "      <td>8.0</td>\n",
       "      <td>115</td>\n",
       "      <td>5500</td>\n",
       "      <td>18</td>\n",
       "      <td>22</td>\n",
       "      <td>17450</td>\n",
       "    </tr>\n",
       "  </tbody>\n",
       "</table>\n",
       "<p>5 rows × 26 columns</p>\n",
       "</div>"
      ],
      "text/plain": [
       "   symboling normalized_losses         make fuel_type aspiration num_doors  \\\n",
       "0          3                 ?  alfa-romero       gas        std       two   \n",
       "1          3                 ?  alfa-romero       gas        std       two   \n",
       "2          1                 ?  alfa-romero       gas        std       two   \n",
       "3          2               164         audi       gas        std      four   \n",
       "4          2               164         audi       gas        std      four   \n",
       "\n",
       "    body_style drive_wheels engine_location  wheel_base  ...  engine_size  \\\n",
       "0  convertible          rwd           front        88.6  ...          130   \n",
       "1  convertible          rwd           front        88.6  ...          130   \n",
       "2    hatchback          rwd           front        94.5  ...          152   \n",
       "3        sedan          fwd           front        99.8  ...          109   \n",
       "4        sedan          4wd           front        99.4  ...          136   \n",
       "\n",
       "   fuel_system  bore  stroke compression_ratio horsepower  peak_rpm city_mpg  \\\n",
       "0         mpfi  3.47    2.68               9.0        111      5000       21   \n",
       "1         mpfi  3.47    2.68               9.0        111      5000       21   \n",
       "2         mpfi  2.68    3.47               9.0        154      5000       19   \n",
       "3         mpfi  3.19    3.40              10.0        102      5500       24   \n",
       "4         mpfi  3.19    3.40               8.0        115      5500       18   \n",
       "\n",
       "  highway_mpg  price  \n",
       "0          27  13495  \n",
       "1          27  16500  \n",
       "2          26  16500  \n",
       "3          30  13950  \n",
       "4          22  17450  \n",
       "\n",
       "[5 rows x 26 columns]"
      ]
     },
     "execution_count": 2,
     "metadata": {},
     "output_type": "execute_result"
    }
   ],
   "source": [
    "cars.head()"
   ]
  },
  {
   "cell_type": "markdown",
   "metadata": {},
   "source": [
    "### Determining Features and Target Columns\n",
    "\n",
    "Before we build a model, we should figure out which columns would work best for training. We will only use the columns that contain numeric data. Since our goal is to predict price, the `price` column will be our target column.\n",
    "\n",
    "When we look at the data types in the columns below, we find that there are columns that should contain data in a numerical type (int64, float64), but are stored as an object instead. We need to do some data cleaning before moving on."
   ]
  },
  {
   "cell_type": "code",
   "execution_count": 3,
   "metadata": {},
   "outputs": [
    {
     "name": "stdout",
     "output_type": "stream",
     "text": [
      "<class 'pandas.core.frame.DataFrame'>\n",
      "RangeIndex: 205 entries, 0 to 204\n",
      "Data columns (total 26 columns):\n",
      " #   Column             Non-Null Count  Dtype  \n",
      "---  ------             --------------  -----  \n",
      " 0   symboling          205 non-null    int64  \n",
      " 1   normalized_losses  205 non-null    object \n",
      " 2   make               205 non-null    object \n",
      " 3   fuel_type          205 non-null    object \n",
      " 4   aspiration         205 non-null    object \n",
      " 5   num_doors          205 non-null    object \n",
      " 6   body_style         205 non-null    object \n",
      " 7   drive_wheels       205 non-null    object \n",
      " 8   engine_location    205 non-null    object \n",
      " 9   wheel_base         205 non-null    float64\n",
      " 10  length             205 non-null    float64\n",
      " 11  width              205 non-null    float64\n",
      " 12  height             205 non-null    float64\n",
      " 13  curb_weight        205 non-null    int64  \n",
      " 14  engine_type        205 non-null    object \n",
      " 15  num_cylinders      205 non-null    object \n",
      " 16  engine_size        205 non-null    int64  \n",
      " 17  fuel_system        205 non-null    object \n",
      " 18  bore               205 non-null    object \n",
      " 19  stroke             205 non-null    object \n",
      " 20  compression_ratio  205 non-null    float64\n",
      " 21  horsepower         205 non-null    object \n",
      " 22  peak_rpm           205 non-null    object \n",
      " 23  city_mpg           205 non-null    int64  \n",
      " 24  highway_mpg        205 non-null    int64  \n",
      " 25  price              205 non-null    object \n",
      "dtypes: float64(5), int64(5), object(16)\n",
      "memory usage: 41.8+ KB\n"
     ]
    }
   ],
   "source": [
    "cars.info()"
   ]
  },
  {
   "cell_type": "markdown",
   "metadata": {},
   "source": [
    "## Data Cleaning\n",
    "\n",
    "The column thats missing the most values (41 total) is the `normalized_losses` column. Below, we'll replace the missing values with the median of the column, then we'll drop the other rows that contain missing values."
   ]
  },
  {
   "cell_type": "code",
   "execution_count": 4,
   "metadata": {},
   "outputs": [
    {
     "data": {
      "text/plain": [
       "?      41\n",
       "161    11\n",
       "91      8\n",
       "150     7\n",
       "104     6\n",
       "Name: normalized_losses, dtype: int64"
      ]
     },
     "execution_count": 4,
     "metadata": {},
     "output_type": "execute_result"
    }
   ],
   "source": [
    "#Normalized losses column contains '?' values\n",
    "cars['normalized_losses'].value_counts().head()"
   ]
  },
  {
   "cell_type": "markdown",
   "metadata": {},
   "source": [
    "When looking at the documentation, we find that missing values are denoted by the `?` character. Below, we'll replace the `?` values with `NaN`"
   ]
  },
  {
   "cell_type": "code",
   "execution_count": 5,
   "metadata": {},
   "outputs": [],
   "source": [
    "#Replacing '?' with np.nan values accross the dataframe\n",
    "cars=cars.replace('?',np.nan)"
   ]
  },
  {
   "cell_type": "code",
   "execution_count": 6,
   "metadata": {},
   "outputs": [
    {
     "data": {
      "text/plain": [
       "normalized_losses    41\n",
       "price                 4\n",
       "stroke                4\n",
       "bore                  4\n",
       "peak_rpm              2\n",
       "num_doors             2\n",
       "horsepower            2\n",
       "dtype: int64"
      ]
     },
     "execution_count": 6,
     "metadata": {},
     "output_type": "execute_result"
    }
   ],
   "source": [
    "#Locating the columns with missing values\n",
    "cars.isna().sum().sort_values(ascending=False)[:7]"
   ]
  },
  {
   "cell_type": "code",
   "execution_count": 7,
   "metadata": {},
   "outputs": [
    {
     "name": "stdout",
     "output_type": "stream",
     "text": [
      "115.0\n"
     ]
    }
   ],
   "source": [
    "#Calculating median of normalized_losses\n",
    "nl_median=cars.loc[cars['normalized_losses'].notnull(),'normalized_losses'].median()\n",
    "print(nl_median)"
   ]
  },
  {
   "cell_type": "code",
   "execution_count": 8,
   "metadata": {},
   "outputs": [],
   "source": [
    "#Replacing np.nan in with median value in the normalized_losses column\n",
    "cars.loc[cars['normalized_losses'].isna(),'normalized_losses']=nl_median"
   ]
  },
  {
   "cell_type": "code",
   "execution_count": 9,
   "metadata": {},
   "outputs": [],
   "source": [
    "#Converting data type to float\n",
    "cars['normalized_losses']=cars['normalized_losses'].astype(float)"
   ]
  },
  {
   "cell_type": "code",
   "execution_count": 10,
   "metadata": {},
   "outputs": [
    {
     "data": {
      "text/plain": [
       "115.0    44\n",
       "161.0    11\n",
       "91.0      8\n",
       "150.0     7\n",
       "104.0     6\n",
       "Name: normalized_losses, dtype: int64"
      ]
     },
     "execution_count": 10,
     "metadata": {},
     "output_type": "execute_result"
    }
   ],
   "source": [
    "cars['normalized_losses'].value_counts(dropna=False).head()"
   ]
  },
  {
   "cell_type": "code",
   "execution_count": 11,
   "metadata": {},
   "outputs": [],
   "source": [
    "#Dropping the remaining rows that contain null values\n",
    "cars=cars.dropna(axis=0)"
   ]
  },
  {
   "cell_type": "code",
   "execution_count": 12,
   "metadata": {},
   "outputs": [
    {
     "data": {
      "text/plain": [
       "symboling            0\n",
       "normalized_losses    0\n",
       "highway_mpg          0\n",
       "city_mpg             0\n",
       "peak_rpm             0\n",
       "dtype: int64"
      ]
     },
     "execution_count": 12,
     "metadata": {},
     "output_type": "execute_result"
    }
   ],
   "source": [
    "cars.isnull().sum().sort_values(ascending=False).head()"
   ]
  },
  {
   "cell_type": "markdown",
   "metadata": {},
   "source": [
    "### Converting data to numeric & normalizing data\n",
    "\n",
    "To properly use the KNN algorithm, we can only use numeric data. Below we'll convert the dtypes to either `int64` or `float64`, if they contain numeric data that's currently stored as the `object` type"
   ]
  },
  {
   "cell_type": "code",
   "execution_count": 13,
   "metadata": {},
   "outputs": [],
   "source": [
    "cars[['horsepower','peak_rpm','price']]=cars[['horsepower','peak_rpm','price']].astype(int)"
   ]
  },
  {
   "cell_type": "code",
   "execution_count": 14,
   "metadata": {},
   "outputs": [
    {
     "name": "stdout",
     "output_type": "stream",
     "text": [
      "<class 'pandas.core.frame.DataFrame'>\n",
      "Int64Index: 193 entries, 0 to 204\n",
      "Data columns (total 26 columns):\n",
      " #   Column             Non-Null Count  Dtype  \n",
      "---  ------             --------------  -----  \n",
      " 0   symboling          193 non-null    int64  \n",
      " 1   normalized_losses  193 non-null    float64\n",
      " 2   make               193 non-null    object \n",
      " 3   fuel_type          193 non-null    object \n",
      " 4   aspiration         193 non-null    object \n",
      " 5   num_doors          193 non-null    object \n",
      " 6   body_style         193 non-null    object \n",
      " 7   drive_wheels       193 non-null    object \n",
      " 8   engine_location    193 non-null    object \n",
      " 9   wheel_base         193 non-null    float64\n",
      " 10  length             193 non-null    float64\n",
      " 11  width              193 non-null    float64\n",
      " 12  height             193 non-null    float64\n",
      " 13  curb_weight        193 non-null    int64  \n",
      " 14  engine_type        193 non-null    object \n",
      " 15  num_cylinders      193 non-null    object \n",
      " 16  engine_size        193 non-null    int64  \n",
      " 17  fuel_system        193 non-null    object \n",
      " 18  bore               193 non-null    object \n",
      " 19  stroke             193 non-null    object \n",
      " 20  compression_ratio  193 non-null    float64\n",
      " 21  horsepower         193 non-null    int32  \n",
      " 22  peak_rpm           193 non-null    int32  \n",
      " 23  city_mpg           193 non-null    int64  \n",
      " 24  highway_mpg        193 non-null    int64  \n",
      " 25  price              193 non-null    int32  \n",
      "dtypes: float64(6), int32(3), int64(5), object(12)\n",
      "memory usage: 38.4+ KB\n"
     ]
    }
   ],
   "source": [
    "cars.info()"
   ]
  },
  {
   "cell_type": "code",
   "execution_count": 15,
   "metadata": {
    "scrolled": true
   },
   "outputs": [
    {
     "data": {
      "text/html": [
       "<div>\n",
       "<style scoped>\n",
       "    .dataframe tbody tr th:only-of-type {\n",
       "        vertical-align: middle;\n",
       "    }\n",
       "\n",
       "    .dataframe tbody tr th {\n",
       "        vertical-align: top;\n",
       "    }\n",
       "\n",
       "    .dataframe thead th {\n",
       "        text-align: right;\n",
       "    }\n",
       "</style>\n",
       "<table border=\"1\" class=\"dataframe\">\n",
       "  <thead>\n",
       "    <tr style=\"text-align: right;\">\n",
       "      <th></th>\n",
       "      <th>symboling</th>\n",
       "      <th>normalized_losses</th>\n",
       "      <th>make</th>\n",
       "      <th>fuel_type</th>\n",
       "      <th>aspiration</th>\n",
       "      <th>num_doors</th>\n",
       "      <th>body_style</th>\n",
       "      <th>drive_wheels</th>\n",
       "      <th>engine_location</th>\n",
       "      <th>wheel_base</th>\n",
       "      <th>length</th>\n",
       "      <th>width</th>\n",
       "      <th>height</th>\n",
       "      <th>curb_weight</th>\n",
       "      <th>engine_type</th>\n",
       "      <th>num_cylinders</th>\n",
       "      <th>engine_size</th>\n",
       "      <th>fuel_system</th>\n",
       "      <th>bore</th>\n",
       "      <th>stroke</th>\n",
       "      <th>compression_ratio</th>\n",
       "      <th>horsepower</th>\n",
       "      <th>peak_rpm</th>\n",
       "      <th>city_mpg</th>\n",
       "      <th>highway_mpg</th>\n",
       "      <th>price</th>\n",
       "    </tr>\n",
       "  </thead>\n",
       "  <tbody>\n",
       "    <tr>\n",
       "      <th>0</th>\n",
       "      <td>3</td>\n",
       "      <td>115.0</td>\n",
       "      <td>alfa-romero</td>\n",
       "      <td>gas</td>\n",
       "      <td>std</td>\n",
       "      <td>two</td>\n",
       "      <td>convertible</td>\n",
       "      <td>rwd</td>\n",
       "      <td>front</td>\n",
       "      <td>88.6</td>\n",
       "      <td>168.8</td>\n",
       "      <td>64.1</td>\n",
       "      <td>48.8</td>\n",
       "      <td>2548</td>\n",
       "      <td>dohc</td>\n",
       "      <td>four</td>\n",
       "      <td>130</td>\n",
       "      <td>mpfi</td>\n",
       "      <td>3.47</td>\n",
       "      <td>2.68</td>\n",
       "      <td>9.0</td>\n",
       "      <td>111</td>\n",
       "      <td>5000</td>\n",
       "      <td>21</td>\n",
       "      <td>27</td>\n",
       "      <td>13495</td>\n",
       "    </tr>\n",
       "    <tr>\n",
       "      <th>1</th>\n",
       "      <td>3</td>\n",
       "      <td>115.0</td>\n",
       "      <td>alfa-romero</td>\n",
       "      <td>gas</td>\n",
       "      <td>std</td>\n",
       "      <td>two</td>\n",
       "      <td>convertible</td>\n",
       "      <td>rwd</td>\n",
       "      <td>front</td>\n",
       "      <td>88.6</td>\n",
       "      <td>168.8</td>\n",
       "      <td>64.1</td>\n",
       "      <td>48.8</td>\n",
       "      <td>2548</td>\n",
       "      <td>dohc</td>\n",
       "      <td>four</td>\n",
       "      <td>130</td>\n",
       "      <td>mpfi</td>\n",
       "      <td>3.47</td>\n",
       "      <td>2.68</td>\n",
       "      <td>9.0</td>\n",
       "      <td>111</td>\n",
       "      <td>5000</td>\n",
       "      <td>21</td>\n",
       "      <td>27</td>\n",
       "      <td>16500</td>\n",
       "    </tr>\n",
       "    <tr>\n",
       "      <th>2</th>\n",
       "      <td>1</td>\n",
       "      <td>115.0</td>\n",
       "      <td>alfa-romero</td>\n",
       "      <td>gas</td>\n",
       "      <td>std</td>\n",
       "      <td>two</td>\n",
       "      <td>hatchback</td>\n",
       "      <td>rwd</td>\n",
       "      <td>front</td>\n",
       "      <td>94.5</td>\n",
       "      <td>171.2</td>\n",
       "      <td>65.5</td>\n",
       "      <td>52.4</td>\n",
       "      <td>2823</td>\n",
       "      <td>ohcv</td>\n",
       "      <td>six</td>\n",
       "      <td>152</td>\n",
       "      <td>mpfi</td>\n",
       "      <td>2.68</td>\n",
       "      <td>3.47</td>\n",
       "      <td>9.0</td>\n",
       "      <td>154</td>\n",
       "      <td>5000</td>\n",
       "      <td>19</td>\n",
       "      <td>26</td>\n",
       "      <td>16500</td>\n",
       "    </tr>\n",
       "    <tr>\n",
       "      <th>3</th>\n",
       "      <td>2</td>\n",
       "      <td>164.0</td>\n",
       "      <td>audi</td>\n",
       "      <td>gas</td>\n",
       "      <td>std</td>\n",
       "      <td>four</td>\n",
       "      <td>sedan</td>\n",
       "      <td>fwd</td>\n",
       "      <td>front</td>\n",
       "      <td>99.8</td>\n",
       "      <td>176.6</td>\n",
       "      <td>66.2</td>\n",
       "      <td>54.3</td>\n",
       "      <td>2337</td>\n",
       "      <td>ohc</td>\n",
       "      <td>four</td>\n",
       "      <td>109</td>\n",
       "      <td>mpfi</td>\n",
       "      <td>3.19</td>\n",
       "      <td>3.40</td>\n",
       "      <td>10.0</td>\n",
       "      <td>102</td>\n",
       "      <td>5500</td>\n",
       "      <td>24</td>\n",
       "      <td>30</td>\n",
       "      <td>13950</td>\n",
       "    </tr>\n",
       "    <tr>\n",
       "      <th>4</th>\n",
       "      <td>2</td>\n",
       "      <td>164.0</td>\n",
       "      <td>audi</td>\n",
       "      <td>gas</td>\n",
       "      <td>std</td>\n",
       "      <td>four</td>\n",
       "      <td>sedan</td>\n",
       "      <td>4wd</td>\n",
       "      <td>front</td>\n",
       "      <td>99.4</td>\n",
       "      <td>176.6</td>\n",
       "      <td>66.4</td>\n",
       "      <td>54.3</td>\n",
       "      <td>2824</td>\n",
       "      <td>ohc</td>\n",
       "      <td>five</td>\n",
       "      <td>136</td>\n",
       "      <td>mpfi</td>\n",
       "      <td>3.19</td>\n",
       "      <td>3.40</td>\n",
       "      <td>8.0</td>\n",
       "      <td>115</td>\n",
       "      <td>5500</td>\n",
       "      <td>18</td>\n",
       "      <td>22</td>\n",
       "      <td>17450</td>\n",
       "    </tr>\n",
       "  </tbody>\n",
       "</table>\n",
       "</div>"
      ],
      "text/plain": [
       "   symboling  normalized_losses         make fuel_type aspiration num_doors  \\\n",
       "0          3              115.0  alfa-romero       gas        std       two   \n",
       "1          3              115.0  alfa-romero       gas        std       two   \n",
       "2          1              115.0  alfa-romero       gas        std       two   \n",
       "3          2              164.0         audi       gas        std      four   \n",
       "4          2              164.0         audi       gas        std      four   \n",
       "\n",
       "    body_style drive_wheels engine_location  wheel_base  length  width  \\\n",
       "0  convertible          rwd           front        88.6   168.8   64.1   \n",
       "1  convertible          rwd           front        88.6   168.8   64.1   \n",
       "2    hatchback          rwd           front        94.5   171.2   65.5   \n",
       "3        sedan          fwd           front        99.8   176.6   66.2   \n",
       "4        sedan          4wd           front        99.4   176.6   66.4   \n",
       "\n",
       "   height  curb_weight engine_type num_cylinders  engine_size fuel_system  \\\n",
       "0    48.8         2548        dohc          four          130        mpfi   \n",
       "1    48.8         2548        dohc          four          130        mpfi   \n",
       "2    52.4         2823        ohcv           six          152        mpfi   \n",
       "3    54.3         2337         ohc          four          109        mpfi   \n",
       "4    54.3         2824         ohc          five          136        mpfi   \n",
       "\n",
       "   bore stroke  compression_ratio  horsepower  peak_rpm  city_mpg  \\\n",
       "0  3.47   2.68                9.0         111      5000        21   \n",
       "1  3.47   2.68                9.0         111      5000        21   \n",
       "2  2.68   3.47                9.0         154      5000        19   \n",
       "3  3.19   3.40               10.0         102      5500        24   \n",
       "4  3.19   3.40                8.0         115      5500        18   \n",
       "\n",
       "   highway_mpg  price  \n",
       "0           27  13495  \n",
       "1           27  16500  \n",
       "2           26  16500  \n",
       "3           30  13950  \n",
       "4           22  17450  "
      ]
     },
     "execution_count": 15,
     "metadata": {},
     "output_type": "execute_result"
    }
   ],
   "source": [
    "pd.set_option('display.max_columns', None)\n",
    "cars.head()"
   ]
  },
  {
   "cell_type": "markdown",
   "metadata": {},
   "source": [
    "#### Converting strings to int64\n",
    "Both the `num_doors` and `num_cylinders` columns contain numeric data stored as strings. Below we'll replace the words with integers so we can use them in our model."
   ]
  },
  {
   "cell_type": "code",
   "execution_count": 16,
   "metadata": {},
   "outputs": [
    {
     "data": {
      "text/plain": [
       "four    112\n",
       "two      81\n",
       "Name: num_doors, dtype: int64"
      ]
     },
     "execution_count": 16,
     "metadata": {},
     "output_type": "execute_result"
    }
   ],
   "source": [
    "cars['num_doors'].value_counts()"
   ]
  },
  {
   "cell_type": "code",
   "execution_count": 17,
   "metadata": {},
   "outputs": [
    {
     "data": {
      "text/plain": [
       "four      153\n",
       "six        24\n",
       "five       10\n",
       "eight       4\n",
       "twelve      1\n",
       "three       1\n",
       "Name: num_cylinders, dtype: int64"
      ]
     },
     "execution_count": 17,
     "metadata": {},
     "output_type": "execute_result"
    }
   ],
   "source": [
    "cars['num_cylinders'].value_counts()"
   ]
  },
  {
   "cell_type": "code",
   "execution_count": 18,
   "metadata": {},
   "outputs": [
    {
     "data": {
      "text/html": [
       "<div>\n",
       "<style scoped>\n",
       "    .dataframe tbody tr th:only-of-type {\n",
       "        vertical-align: middle;\n",
       "    }\n",
       "\n",
       "    .dataframe tbody tr th {\n",
       "        vertical-align: top;\n",
       "    }\n",
       "\n",
       "    .dataframe thead th {\n",
       "        text-align: right;\n",
       "    }\n",
       "</style>\n",
       "<table border=\"1\" class=\"dataframe\">\n",
       "  <thead>\n",
       "    <tr style=\"text-align: right;\">\n",
       "      <th></th>\n",
       "      <th>num_doors</th>\n",
       "      <th>num_cylinders</th>\n",
       "    </tr>\n",
       "  </thead>\n",
       "  <tbody>\n",
       "    <tr>\n",
       "      <th>0</th>\n",
       "      <td>2</td>\n",
       "      <td>4</td>\n",
       "    </tr>\n",
       "    <tr>\n",
       "      <th>1</th>\n",
       "      <td>2</td>\n",
       "      <td>4</td>\n",
       "    </tr>\n",
       "    <tr>\n",
       "      <th>2</th>\n",
       "      <td>2</td>\n",
       "      <td>6</td>\n",
       "    </tr>\n",
       "    <tr>\n",
       "      <th>3</th>\n",
       "      <td>4</td>\n",
       "      <td>4</td>\n",
       "    </tr>\n",
       "    <tr>\n",
       "      <th>4</th>\n",
       "      <td>4</td>\n",
       "      <td>5</td>\n",
       "    </tr>\n",
       "  </tbody>\n",
       "</table>\n",
       "</div>"
      ],
      "text/plain": [
       "   num_doors  num_cylinders\n",
       "0          2              4\n",
       "1          2              4\n",
       "2          2              6\n",
       "3          4              4\n",
       "4          4              5"
      ]
     },
     "execution_count": 18,
     "metadata": {},
     "output_type": "execute_result"
    }
   ],
   "source": [
    "num_map={'one':1,\n",
    "        'two':2,\n",
    "        'three':3,\n",
    "        'four':4,\n",
    "        'five':5,\n",
    "        'six':6,\n",
    "        'eight':8,\n",
    "        'twelve':12}\n",
    "cars[['num_doors','num_cylinders']]=cars[['num_doors','num_cylinders']].applymap(lambda x: num_map[x])\n",
    "cars[['num_doors','num_cylinders']].head()"
   ]
  },
  {
   "cell_type": "code",
   "execution_count": 19,
   "metadata": {},
   "outputs": [
    {
     "name": "stdout",
     "output_type": "stream",
     "text": [
      "<class 'pandas.core.frame.DataFrame'>\n",
      "Int64Index: 193 entries, 0 to 204\n",
      "Data columns (total 26 columns):\n",
      " #   Column             Non-Null Count  Dtype  \n",
      "---  ------             --------------  -----  \n",
      " 0   symboling          193 non-null    int64  \n",
      " 1   normalized_losses  193 non-null    float64\n",
      " 2   make               193 non-null    object \n",
      " 3   fuel_type          193 non-null    object \n",
      " 4   aspiration         193 non-null    object \n",
      " 5   num_doors          193 non-null    int64  \n",
      " 6   body_style         193 non-null    object \n",
      " 7   drive_wheels       193 non-null    object \n",
      " 8   engine_location    193 non-null    object \n",
      " 9   wheel_base         193 non-null    float64\n",
      " 10  length             193 non-null    float64\n",
      " 11  width              193 non-null    float64\n",
      " 12  height             193 non-null    float64\n",
      " 13  curb_weight        193 non-null    int64  \n",
      " 14  engine_type        193 non-null    object \n",
      " 15  num_cylinders      193 non-null    int64  \n",
      " 16  engine_size        193 non-null    int64  \n",
      " 17  fuel_system        193 non-null    object \n",
      " 18  bore               193 non-null    object \n",
      " 19  stroke             193 non-null    object \n",
      " 20  compression_ratio  193 non-null    float64\n",
      " 21  horsepower         193 non-null    int32  \n",
      " 22  peak_rpm           193 non-null    int32  \n",
      " 23  city_mpg           193 non-null    int64  \n",
      " 24  highway_mpg        193 non-null    int64  \n",
      " 25  price              193 non-null    int32  \n",
      "dtypes: float64(6), int32(3), int64(7), object(10)\n",
      "memory usage: 38.4+ KB\n"
     ]
    }
   ],
   "source": [
    "cars.info()"
   ]
  },
  {
   "cell_type": "code",
   "execution_count": 20,
   "metadata": {},
   "outputs": [
    {
     "data": {
      "text/html": [
       "<div>\n",
       "<style scoped>\n",
       "    .dataframe tbody tr th:only-of-type {\n",
       "        vertical-align: middle;\n",
       "    }\n",
       "\n",
       "    .dataframe tbody tr th {\n",
       "        vertical-align: top;\n",
       "    }\n",
       "\n",
       "    .dataframe thead th {\n",
       "        text-align: right;\n",
       "    }\n",
       "</style>\n",
       "<table border=\"1\" class=\"dataframe\">\n",
       "  <thead>\n",
       "    <tr style=\"text-align: right;\">\n",
       "      <th></th>\n",
       "      <th>symboling</th>\n",
       "      <th>normalized_losses</th>\n",
       "      <th>num_doors</th>\n",
       "      <th>wheel_base</th>\n",
       "      <th>length</th>\n",
       "      <th>width</th>\n",
       "      <th>height</th>\n",
       "      <th>curb_weight</th>\n",
       "      <th>num_cylinders</th>\n",
       "      <th>engine_size</th>\n",
       "      <th>compression_ratio</th>\n",
       "      <th>horsepower</th>\n",
       "      <th>peak_rpm</th>\n",
       "      <th>city_mpg</th>\n",
       "      <th>highway_mpg</th>\n",
       "      <th>price</th>\n",
       "    </tr>\n",
       "  </thead>\n",
       "  <tbody>\n",
       "    <tr>\n",
       "      <th>count</th>\n",
       "      <td>193.000000</td>\n",
       "      <td>193.000000</td>\n",
       "      <td>193.000000</td>\n",
       "      <td>193.000000</td>\n",
       "      <td>193.000000</td>\n",
       "      <td>193.000000</td>\n",
       "      <td>193.000000</td>\n",
       "      <td>193.000000</td>\n",
       "      <td>193.000000</td>\n",
       "      <td>193.000000</td>\n",
       "      <td>193.000000</td>\n",
       "      <td>193.000000</td>\n",
       "      <td>193.000000</td>\n",
       "      <td>193.000000</td>\n",
       "      <td>193.000000</td>\n",
       "      <td>193.000000</td>\n",
       "    </tr>\n",
       "    <tr>\n",
       "      <th>mean</th>\n",
       "      <td>0.797927</td>\n",
       "      <td>120.051813</td>\n",
       "      <td>3.160622</td>\n",
       "      <td>98.923834</td>\n",
       "      <td>174.326425</td>\n",
       "      <td>65.893782</td>\n",
       "      <td>53.869948</td>\n",
       "      <td>2561.507772</td>\n",
       "      <td>4.419689</td>\n",
       "      <td>128.124352</td>\n",
       "      <td>10.143627</td>\n",
       "      <td>103.481865</td>\n",
       "      <td>5099.740933</td>\n",
       "      <td>25.326425</td>\n",
       "      <td>30.787565</td>\n",
       "      <td>13285.025907</td>\n",
       "    </tr>\n",
       "    <tr>\n",
       "      <th>std</th>\n",
       "      <td>1.235582</td>\n",
       "      <td>32.425675</td>\n",
       "      <td>0.989583</td>\n",
       "      <td>6.152409</td>\n",
       "      <td>12.478593</td>\n",
       "      <td>2.137795</td>\n",
       "      <td>2.394770</td>\n",
       "      <td>526.700026</td>\n",
       "      <td>1.023182</td>\n",
       "      <td>41.590452</td>\n",
       "      <td>3.977491</td>\n",
       "      <td>37.960107</td>\n",
       "      <td>468.694369</td>\n",
       "      <td>6.387828</td>\n",
       "      <td>6.816910</td>\n",
       "      <td>8089.082886</td>\n",
       "    </tr>\n",
       "    <tr>\n",
       "      <th>min</th>\n",
       "      <td>-2.000000</td>\n",
       "      <td>65.000000</td>\n",
       "      <td>2.000000</td>\n",
       "      <td>86.600000</td>\n",
       "      <td>141.100000</td>\n",
       "      <td>60.300000</td>\n",
       "      <td>47.800000</td>\n",
       "      <td>1488.000000</td>\n",
       "      <td>3.000000</td>\n",
       "      <td>61.000000</td>\n",
       "      <td>7.000000</td>\n",
       "      <td>48.000000</td>\n",
       "      <td>4150.000000</td>\n",
       "      <td>13.000000</td>\n",
       "      <td>16.000000</td>\n",
       "      <td>5118.000000</td>\n",
       "    </tr>\n",
       "    <tr>\n",
       "      <th>25%</th>\n",
       "      <td>0.000000</td>\n",
       "      <td>95.000000</td>\n",
       "      <td>2.000000</td>\n",
       "      <td>94.500000</td>\n",
       "      <td>166.300000</td>\n",
       "      <td>64.100000</td>\n",
       "      <td>52.000000</td>\n",
       "      <td>2145.000000</td>\n",
       "      <td>4.000000</td>\n",
       "      <td>98.000000</td>\n",
       "      <td>8.500000</td>\n",
       "      <td>70.000000</td>\n",
       "      <td>4800.000000</td>\n",
       "      <td>19.000000</td>\n",
       "      <td>25.000000</td>\n",
       "      <td>7738.000000</td>\n",
       "    </tr>\n",
       "    <tr>\n",
       "      <th>50%</th>\n",
       "      <td>1.000000</td>\n",
       "      <td>115.000000</td>\n",
       "      <td>4.000000</td>\n",
       "      <td>97.000000</td>\n",
       "      <td>173.200000</td>\n",
       "      <td>65.400000</td>\n",
       "      <td>54.100000</td>\n",
       "      <td>2414.000000</td>\n",
       "      <td>4.000000</td>\n",
       "      <td>120.000000</td>\n",
       "      <td>9.000000</td>\n",
       "      <td>95.000000</td>\n",
       "      <td>5100.000000</td>\n",
       "      <td>25.000000</td>\n",
       "      <td>30.000000</td>\n",
       "      <td>10245.000000</td>\n",
       "    </tr>\n",
       "    <tr>\n",
       "      <th>75%</th>\n",
       "      <td>2.000000</td>\n",
       "      <td>134.000000</td>\n",
       "      <td>4.000000</td>\n",
       "      <td>102.400000</td>\n",
       "      <td>184.600000</td>\n",
       "      <td>66.900000</td>\n",
       "      <td>55.700000</td>\n",
       "      <td>2952.000000</td>\n",
       "      <td>4.000000</td>\n",
       "      <td>146.000000</td>\n",
       "      <td>9.400000</td>\n",
       "      <td>116.000000</td>\n",
       "      <td>5500.000000</td>\n",
       "      <td>30.000000</td>\n",
       "      <td>34.000000</td>\n",
       "      <td>16515.000000</td>\n",
       "    </tr>\n",
       "    <tr>\n",
       "      <th>max</th>\n",
       "      <td>3.000000</td>\n",
       "      <td>256.000000</td>\n",
       "      <td>4.000000</td>\n",
       "      <td>120.900000</td>\n",
       "      <td>208.100000</td>\n",
       "      <td>72.000000</td>\n",
       "      <td>59.800000</td>\n",
       "      <td>4066.000000</td>\n",
       "      <td>12.000000</td>\n",
       "      <td>326.000000</td>\n",
       "      <td>23.000000</td>\n",
       "      <td>262.000000</td>\n",
       "      <td>6600.000000</td>\n",
       "      <td>49.000000</td>\n",
       "      <td>54.000000</td>\n",
       "      <td>45400.000000</td>\n",
       "    </tr>\n",
       "  </tbody>\n",
       "</table>\n",
       "</div>"
      ],
      "text/plain": [
       "        symboling  normalized_losses   num_doors  wheel_base      length  \\\n",
       "count  193.000000         193.000000  193.000000  193.000000  193.000000   \n",
       "mean     0.797927         120.051813    3.160622   98.923834  174.326425   \n",
       "std      1.235582          32.425675    0.989583    6.152409   12.478593   \n",
       "min     -2.000000          65.000000    2.000000   86.600000  141.100000   \n",
       "25%      0.000000          95.000000    2.000000   94.500000  166.300000   \n",
       "50%      1.000000         115.000000    4.000000   97.000000  173.200000   \n",
       "75%      2.000000         134.000000    4.000000  102.400000  184.600000   \n",
       "max      3.000000         256.000000    4.000000  120.900000  208.100000   \n",
       "\n",
       "            width      height  curb_weight  num_cylinders  engine_size  \\\n",
       "count  193.000000  193.000000   193.000000     193.000000   193.000000   \n",
       "mean    65.893782   53.869948  2561.507772       4.419689   128.124352   \n",
       "std      2.137795    2.394770   526.700026       1.023182    41.590452   \n",
       "min     60.300000   47.800000  1488.000000       3.000000    61.000000   \n",
       "25%     64.100000   52.000000  2145.000000       4.000000    98.000000   \n",
       "50%     65.400000   54.100000  2414.000000       4.000000   120.000000   \n",
       "75%     66.900000   55.700000  2952.000000       4.000000   146.000000   \n",
       "max     72.000000   59.800000  4066.000000      12.000000   326.000000   \n",
       "\n",
       "       compression_ratio  horsepower     peak_rpm    city_mpg  highway_mpg  \\\n",
       "count         193.000000  193.000000   193.000000  193.000000   193.000000   \n",
       "mean           10.143627  103.481865  5099.740933   25.326425    30.787565   \n",
       "std             3.977491   37.960107   468.694369    6.387828     6.816910   \n",
       "min             7.000000   48.000000  4150.000000   13.000000    16.000000   \n",
       "25%             8.500000   70.000000  4800.000000   19.000000    25.000000   \n",
       "50%             9.000000   95.000000  5100.000000   25.000000    30.000000   \n",
       "75%             9.400000  116.000000  5500.000000   30.000000    34.000000   \n",
       "max            23.000000  262.000000  6600.000000   49.000000    54.000000   \n",
       "\n",
       "              price  \n",
       "count    193.000000  \n",
       "mean   13285.025907  \n",
       "std     8089.082886  \n",
       "min     5118.000000  \n",
       "25%     7738.000000  \n",
       "50%    10245.000000  \n",
       "75%    16515.000000  \n",
       "max    45400.000000  "
      ]
     },
     "execution_count": 20,
     "metadata": {},
     "output_type": "execute_result"
    }
   ],
   "source": [
    "#Creating a dataframe with only numeric columns\n",
    "cars['price']=cars['price'].astype(int)\n",
    "cars_clean=cars.select_dtypes(include=np.number).copy()\n",
    "cars_clean.describe()"
   ]
  },
  {
   "cell_type": "code",
   "execution_count": 21,
   "metadata": {},
   "outputs": [],
   "source": [
    "# Normalize all columnns to range from 0 to 1 except the target column.\n",
    "price_col = cars_clean['price']\n",
    "cars_scaled = (cars_clean - cars_clean.min())/(cars_clean.max() - cars_clean.min())\n",
    "cars_scaled['price'] = price_col"
   ]
  },
  {
   "cell_type": "code",
   "execution_count": 22,
   "metadata": {},
   "outputs": [
    {
     "data": {
      "text/html": [
       "<div>\n",
       "<style scoped>\n",
       "    .dataframe tbody tr th:only-of-type {\n",
       "        vertical-align: middle;\n",
       "    }\n",
       "\n",
       "    .dataframe tbody tr th {\n",
       "        vertical-align: top;\n",
       "    }\n",
       "\n",
       "    .dataframe thead th {\n",
       "        text-align: right;\n",
       "    }\n",
       "</style>\n",
       "<table border=\"1\" class=\"dataframe\">\n",
       "  <thead>\n",
       "    <tr style=\"text-align: right;\">\n",
       "      <th></th>\n",
       "      <th>symboling</th>\n",
       "      <th>normalized_losses</th>\n",
       "      <th>num_doors</th>\n",
       "      <th>wheel_base</th>\n",
       "      <th>length</th>\n",
       "      <th>width</th>\n",
       "      <th>height</th>\n",
       "      <th>curb_weight</th>\n",
       "      <th>num_cylinders</th>\n",
       "      <th>engine_size</th>\n",
       "      <th>compression_ratio</th>\n",
       "      <th>horsepower</th>\n",
       "      <th>peak_rpm</th>\n",
       "      <th>city_mpg</th>\n",
       "      <th>highway_mpg</th>\n",
       "      <th>price</th>\n",
       "    </tr>\n",
       "  </thead>\n",
       "  <tbody>\n",
       "    <tr>\n",
       "      <th>count</th>\n",
       "      <td>193.000000</td>\n",
       "      <td>193.000000</td>\n",
       "      <td>193.000000</td>\n",
       "      <td>193.000000</td>\n",
       "      <td>193.000000</td>\n",
       "      <td>193.000000</td>\n",
       "      <td>193.000000</td>\n",
       "      <td>193.000000</td>\n",
       "      <td>193.000000</td>\n",
       "      <td>193.000000</td>\n",
       "      <td>193.000000</td>\n",
       "      <td>193.000000</td>\n",
       "      <td>193.000000</td>\n",
       "      <td>193.000000</td>\n",
       "      <td>193.000000</td>\n",
       "      <td>193.000000</td>\n",
       "    </tr>\n",
       "    <tr>\n",
       "      <th>mean</th>\n",
       "      <td>0.559585</td>\n",
       "      <td>0.288229</td>\n",
       "      <td>0.580311</td>\n",
       "      <td>0.359295</td>\n",
       "      <td>0.495917</td>\n",
       "      <td>0.478101</td>\n",
       "      <td>0.505829</td>\n",
       "      <td>0.416411</td>\n",
       "      <td>0.157743</td>\n",
       "      <td>0.253299</td>\n",
       "      <td>0.196477</td>\n",
       "      <td>0.259261</td>\n",
       "      <td>0.387649</td>\n",
       "      <td>0.342401</td>\n",
       "      <td>0.389146</td>\n",
       "      <td>13285.025907</td>\n",
       "    </tr>\n",
       "    <tr>\n",
       "      <th>std</th>\n",
       "      <td>0.247116</td>\n",
       "      <td>0.169768</td>\n",
       "      <td>0.494792</td>\n",
       "      <td>0.179371</td>\n",
       "      <td>0.186248</td>\n",
       "      <td>0.182718</td>\n",
       "      <td>0.199564</td>\n",
       "      <td>0.204306</td>\n",
       "      <td>0.113687</td>\n",
       "      <td>0.156945</td>\n",
       "      <td>0.248593</td>\n",
       "      <td>0.177384</td>\n",
       "      <td>0.191304</td>\n",
       "      <td>0.177440</td>\n",
       "      <td>0.179392</td>\n",
       "      <td>8089.082886</td>\n",
       "    </tr>\n",
       "    <tr>\n",
       "      <th>min</th>\n",
       "      <td>0.000000</td>\n",
       "      <td>0.000000</td>\n",
       "      <td>0.000000</td>\n",
       "      <td>0.000000</td>\n",
       "      <td>0.000000</td>\n",
       "      <td>0.000000</td>\n",
       "      <td>0.000000</td>\n",
       "      <td>0.000000</td>\n",
       "      <td>0.000000</td>\n",
       "      <td>0.000000</td>\n",
       "      <td>0.000000</td>\n",
       "      <td>0.000000</td>\n",
       "      <td>0.000000</td>\n",
       "      <td>0.000000</td>\n",
       "      <td>0.000000</td>\n",
       "      <td>5118.000000</td>\n",
       "    </tr>\n",
       "    <tr>\n",
       "      <th>25%</th>\n",
       "      <td>0.400000</td>\n",
       "      <td>0.157068</td>\n",
       "      <td>0.000000</td>\n",
       "      <td>0.230321</td>\n",
       "      <td>0.376119</td>\n",
       "      <td>0.324786</td>\n",
       "      <td>0.350000</td>\n",
       "      <td>0.254849</td>\n",
       "      <td>0.111111</td>\n",
       "      <td>0.139623</td>\n",
       "      <td>0.093750</td>\n",
       "      <td>0.102804</td>\n",
       "      <td>0.265306</td>\n",
       "      <td>0.166667</td>\n",
       "      <td>0.236842</td>\n",
       "      <td>7738.000000</td>\n",
       "    </tr>\n",
       "    <tr>\n",
       "      <th>50%</th>\n",
       "      <td>0.600000</td>\n",
       "      <td>0.261780</td>\n",
       "      <td>1.000000</td>\n",
       "      <td>0.303207</td>\n",
       "      <td>0.479104</td>\n",
       "      <td>0.435897</td>\n",
       "      <td>0.525000</td>\n",
       "      <td>0.359193</td>\n",
       "      <td>0.111111</td>\n",
       "      <td>0.222642</td>\n",
       "      <td>0.125000</td>\n",
       "      <td>0.219626</td>\n",
       "      <td>0.387755</td>\n",
       "      <td>0.333333</td>\n",
       "      <td>0.368421</td>\n",
       "      <td>10245.000000</td>\n",
       "    </tr>\n",
       "    <tr>\n",
       "      <th>75%</th>\n",
       "      <td>0.800000</td>\n",
       "      <td>0.361257</td>\n",
       "      <td>1.000000</td>\n",
       "      <td>0.460641</td>\n",
       "      <td>0.649254</td>\n",
       "      <td>0.564103</td>\n",
       "      <td>0.658333</td>\n",
       "      <td>0.567882</td>\n",
       "      <td>0.111111</td>\n",
       "      <td>0.320755</td>\n",
       "      <td>0.150000</td>\n",
       "      <td>0.317757</td>\n",
       "      <td>0.551020</td>\n",
       "      <td>0.472222</td>\n",
       "      <td>0.473684</td>\n",
       "      <td>16515.000000</td>\n",
       "    </tr>\n",
       "    <tr>\n",
       "      <th>max</th>\n",
       "      <td>1.000000</td>\n",
       "      <td>1.000000</td>\n",
       "      <td>1.000000</td>\n",
       "      <td>1.000000</td>\n",
       "      <td>1.000000</td>\n",
       "      <td>1.000000</td>\n",
       "      <td>1.000000</td>\n",
       "      <td>1.000000</td>\n",
       "      <td>1.000000</td>\n",
       "      <td>1.000000</td>\n",
       "      <td>1.000000</td>\n",
       "      <td>1.000000</td>\n",
       "      <td>1.000000</td>\n",
       "      <td>1.000000</td>\n",
       "      <td>1.000000</td>\n",
       "      <td>45400.000000</td>\n",
       "    </tr>\n",
       "  </tbody>\n",
       "</table>\n",
       "</div>"
      ],
      "text/plain": [
       "        symboling  normalized_losses   num_doors  wheel_base      length  \\\n",
       "count  193.000000         193.000000  193.000000  193.000000  193.000000   \n",
       "mean     0.559585           0.288229    0.580311    0.359295    0.495917   \n",
       "std      0.247116           0.169768    0.494792    0.179371    0.186248   \n",
       "min      0.000000           0.000000    0.000000    0.000000    0.000000   \n",
       "25%      0.400000           0.157068    0.000000    0.230321    0.376119   \n",
       "50%      0.600000           0.261780    1.000000    0.303207    0.479104   \n",
       "75%      0.800000           0.361257    1.000000    0.460641    0.649254   \n",
       "max      1.000000           1.000000    1.000000    1.000000    1.000000   \n",
       "\n",
       "            width      height  curb_weight  num_cylinders  engine_size  \\\n",
       "count  193.000000  193.000000   193.000000     193.000000   193.000000   \n",
       "mean     0.478101    0.505829     0.416411       0.157743     0.253299   \n",
       "std      0.182718    0.199564     0.204306       0.113687     0.156945   \n",
       "min      0.000000    0.000000     0.000000       0.000000     0.000000   \n",
       "25%      0.324786    0.350000     0.254849       0.111111     0.139623   \n",
       "50%      0.435897    0.525000     0.359193       0.111111     0.222642   \n",
       "75%      0.564103    0.658333     0.567882       0.111111     0.320755   \n",
       "max      1.000000    1.000000     1.000000       1.000000     1.000000   \n",
       "\n",
       "       compression_ratio  horsepower    peak_rpm    city_mpg  highway_mpg  \\\n",
       "count         193.000000  193.000000  193.000000  193.000000   193.000000   \n",
       "mean            0.196477    0.259261    0.387649    0.342401     0.389146   \n",
       "std             0.248593    0.177384    0.191304    0.177440     0.179392   \n",
       "min             0.000000    0.000000    0.000000    0.000000     0.000000   \n",
       "25%             0.093750    0.102804    0.265306    0.166667     0.236842   \n",
       "50%             0.125000    0.219626    0.387755    0.333333     0.368421   \n",
       "75%             0.150000    0.317757    0.551020    0.472222     0.473684   \n",
       "max             1.000000    1.000000    1.000000    1.000000     1.000000   \n",
       "\n",
       "              price  \n",
       "count    193.000000  \n",
       "mean   13285.025907  \n",
       "std     8089.082886  \n",
       "min     5118.000000  \n",
       "25%     7738.000000  \n",
       "50%    10245.000000  \n",
       "75%    16515.000000  \n",
       "max    45400.000000  "
      ]
     },
     "execution_count": 22,
     "metadata": {},
     "output_type": "execute_result"
    }
   ],
   "source": [
    "cars_scaled.describe()"
   ]
  },
  {
   "cell_type": "markdown",
   "metadata": {
    "collapsed": true
   },
   "source": [
    "## Building K-Nearest Neighbors Models"
   ]
  },
  {
   "cell_type": "markdown",
   "metadata": {},
   "source": [
    "Now that we have our data cleaned and scaled appropriately, we can begin building our regression model. We'll build a few; a Univariate Model, which uses only one feature to predict price, and a Multivariate Model, which uses multiple features to predict price. We'll then try each model with multiple k values to determine the k value with the lowest root mean squared error (rmse). Our goal is to find which columns and k values result in the most accurate predictions."
   ]
  },
  {
   "cell_type": "markdown",
   "metadata": {},
   "source": [
    "### Univariate Model"
   ]
  },
  {
   "cell_type": "code",
   "execution_count": 23,
   "metadata": {},
   "outputs": [],
   "source": [
    "from sklearn.neighbors import KNeighborsRegressor\n",
    "from sklearn.metrics import mean_squared_error\n",
    "\n",
    "def knn_train_test(train_col, target_col, data):\n",
    "    knn=KNeighborsRegressor()\n",
    "    np.random.seed(1)\n",
    "    \n",
    "    #Shuffle the data\n",
    "    shuffled_index=np.random.permutation(data.index)\n",
    "    shuffled_data=data.reindex(shuffled_index)\n",
    "    \n",
    "    #Splitting data into train/test segments\n",
    "    cutoff_index=int(len(shuffled_data)*.5)\n",
    "    train_data=shuffled_data.iloc[:cutoff_index]\n",
    "    test_data=shuffled_data.iloc[cutoff_index:]\n",
    "    \n",
    "    #fitting the model to training data\n",
    "    knn.fit(train_data[[train_col]],train_data[target_col])\n",
    "    \n",
    "    #calculating prediction and returning root-mean-squared error\n",
    "    predictions=knn.predict(test_data[[train_col]])\n",
    "    mse=mean_squared_error(test_data[target_col],predictions)\n",
    "    return np.sqrt(mse)"
   ]
  },
  {
   "cell_type": "code",
   "execution_count": 24,
   "metadata": {
    "scrolled": true
   },
   "outputs": [
    {
     "data": {
      "text/plain": [
       "4453.397655306413"
      ]
     },
     "execution_count": 24,
     "metadata": {},
     "output_type": "execute_result"
    }
   ],
   "source": [
    "#Testing univariate model using the 'city_mpg' column\n",
    "knn_train_test('city_mpg','price',cars_scaled)"
   ]
  },
  {
   "cell_type": "code",
   "execution_count": 25,
   "metadata": {},
   "outputs": [],
   "source": [
    "#price is our target column, all other columns are used for training\n",
    "train_cols=cars_scaled.columns.drop('price')"
   ]
  },
  {
   "cell_type": "code",
   "execution_count": 26,
   "metadata": {},
   "outputs": [
    {
     "name": "stdout",
     "output_type": "stream",
     "text": [
      "engine_size          3247.858492\n",
      "curb_weight          4277.090667\n",
      "city_mpg             4453.397655\n",
      "highway_mpg          4457.947353\n",
      "width                4586.631863\n",
      "horsepower           4928.543248\n",
      "num_cylinders        5615.498645\n",
      "length               5823.219231\n",
      "wheel_base           5879.632781\n",
      "compression_ratio    6654.971495\n",
      "normalized_losses    8087.816916\n",
      "peak_rpm             8243.362449\n",
      "height               8471.473079\n",
      "num_doors            9724.044937\n",
      "symboling            9969.442423\n",
      "dtype: float64\n"
     ]
    }
   ],
   "source": [
    "rmse={}\n",
    "\n",
    "#Iterating through the training columns, compiling dictionary containing rmse values\n",
    "for col in train_cols:\n",
    "    rmse[col]=knn_train_test(col, 'price', cars_scaled)\n",
    "\n",
    "rmse=pd.Series(rmse)\n",
    "print(rmse.sort_values())"
   ]
  },
  {
   "cell_type": "markdown",
   "metadata": {},
   "source": [
    "Since `engine_size` has the lowest error value when using the default k-value univariate model, it is the strongest indicator of car price."
   ]
  },
  {
   "cell_type": "markdown",
   "metadata": {},
   "source": [
    "### Updating Univariate Model to Include Multiple k values"
   ]
  },
  {
   "cell_type": "markdown",
   "metadata": {},
   "source": [
    "Next, we'll run our model again, but this time, we'll create a for loop inside of the function to compute error values using different k-values"
   ]
  },
  {
   "cell_type": "code",
   "execution_count": 27,
   "metadata": {},
   "outputs": [],
   "source": [
    "def knn_train_test(train_col, target_col, data):    \n",
    "    np.random.seed(1)\n",
    "    \n",
    "    #Shuffle the data\n",
    "    shuffled_index=np.random.permutation(data.index)\n",
    "    shuffled_data=data.reindex(shuffled_index)\n",
    "    \n",
    "    #Splitting data into train/test segments\n",
    "    cutoff_index=int(len(shuffled_data)*.5)\n",
    "    train_data=shuffled_data.iloc[:cutoff_index]\n",
    "    test_data=shuffled_data.iloc[cutoff_index:]\n",
    "    \n",
    "    #providing a spread of 5 different k values\n",
    "    k_values=[1,3,5,7,9]\n",
    "    rmses={}\n",
    "    for k in k_values:\n",
    "        knn=KNeighborsRegressor(n_neighbors=k)\n",
    "        \n",
    "        #fitting the model to training data\n",
    "        knn.fit(train_data[[train_col]],train_data[target_col])\n",
    "\n",
    "        #calculating prediction and returning root-mean-squared error\n",
    "        predictions=knn.predict(test_data[[train_col]])\n",
    "        mse=mean_squared_error(test_data[target_col],predictions)\n",
    "        rmses[k]=np.sqrt(mse)\n",
    "    return rmses"
   ]
  },
  {
   "cell_type": "code",
   "execution_count": 28,
   "metadata": {},
   "outputs": [],
   "source": [
    "k_col_rmse={}\n",
    "\n",
    "for col in train_cols:\n",
    "    k_col_rmse[col]=knn_train_test(col, 'price', cars_scaled)"
   ]
  },
  {
   "cell_type": "code",
   "execution_count": 29,
   "metadata": {},
   "outputs": [
    {
     "data": {
      "text/html": [
       "<div>\n",
       "<style scoped>\n",
       "    .dataframe tbody tr th:only-of-type {\n",
       "        vertical-align: middle;\n",
       "    }\n",
       "\n",
       "    .dataframe tbody tr th {\n",
       "        vertical-align: top;\n",
       "    }\n",
       "\n",
       "    .dataframe thead th {\n",
       "        text-align: right;\n",
       "    }\n",
       "</style>\n",
       "<table border=\"1\" class=\"dataframe\">\n",
       "  <thead>\n",
       "    <tr style=\"text-align: right;\">\n",
       "      <th></th>\n",
       "      <th>1</th>\n",
       "      <th>3</th>\n",
       "      <th>5</th>\n",
       "      <th>7</th>\n",
       "      <th>9</th>\n",
       "    </tr>\n",
       "  </thead>\n",
       "  <tbody>\n",
       "    <tr>\n",
       "      <th>num_doors</th>\n",
       "      <td>20364.033248</td>\n",
       "      <td>13006.984283</td>\n",
       "      <td>9724.044937</td>\n",
       "      <td>9051.907498</td>\n",
       "      <td>8945.791131</td>\n",
       "    </tr>\n",
       "    <tr>\n",
       "      <th>symboling</th>\n",
       "      <td>15107.116264</td>\n",
       "      <td>10275.875524</td>\n",
       "      <td>9969.442423</td>\n",
       "      <td>9541.604233</td>\n",
       "      <td>8865.652751</td>\n",
       "    </tr>\n",
       "    <tr>\n",
       "      <th>height</th>\n",
       "      <td>10889.539461</td>\n",
       "      <td>8567.789618</td>\n",
       "      <td>8471.473079</td>\n",
       "      <td>8137.528221</td>\n",
       "      <td>8215.912288</td>\n",
       "    </tr>\n",
       "    <tr>\n",
       "      <th>compression_ratio</th>\n",
       "      <td>7838.400373</td>\n",
       "      <td>7012.187434</td>\n",
       "      <td>6654.971495</td>\n",
       "      <td>6533.591538</td>\n",
       "      <td>6776.214585</td>\n",
       "    </tr>\n",
       "    <tr>\n",
       "      <th>normalized_losses</th>\n",
       "      <td>7813.919391</td>\n",
       "      <td>7765.191111</td>\n",
       "      <td>8087.816916</td>\n",
       "      <td>8089.732998</td>\n",
       "      <td>8014.211284</td>\n",
       "    </tr>\n",
       "    <tr>\n",
       "      <th>peak_rpm</th>\n",
       "      <td>7514.818290</td>\n",
       "      <td>7422.196486</td>\n",
       "      <td>8243.362449</td>\n",
       "      <td>7920.649600</td>\n",
       "      <td>7923.688119</td>\n",
       "    </tr>\n",
       "    <tr>\n",
       "      <th>num_cylinders</th>\n",
       "      <td>6886.336993</td>\n",
       "      <td>5646.719551</td>\n",
       "      <td>5615.498645</td>\n",
       "      <td>5936.366056</td>\n",
       "      <td>6030.995271</td>\n",
       "    </tr>\n",
       "    <tr>\n",
       "      <th>wheel_base</th>\n",
       "      <td>6332.159353</td>\n",
       "      <td>5691.155680</td>\n",
       "      <td>5879.632781</td>\n",
       "      <td>5933.800412</td>\n",
       "      <td>6007.526484</td>\n",
       "    </tr>\n",
       "    <tr>\n",
       "      <th>length</th>\n",
       "      <td>6258.164658</td>\n",
       "      <td>5764.587398</td>\n",
       "      <td>5823.219231</td>\n",
       "      <td>5855.722065</td>\n",
       "      <td>5901.629001</td>\n",
       "    </tr>\n",
       "    <tr>\n",
       "      <th>city_mpg</th>\n",
       "      <td>5634.707013</td>\n",
       "      <td>4295.143746</td>\n",
       "      <td>4453.397655</td>\n",
       "      <td>4308.397540</td>\n",
       "      <td>4701.149969</td>\n",
       "    </tr>\n",
       "    <tr>\n",
       "      <th>curb_weight</th>\n",
       "      <td>5007.487233</td>\n",
       "      <td>4142.948725</td>\n",
       "      <td>4277.090667</td>\n",
       "      <td>4352.419973</td>\n",
       "      <td>4774.595282</td>\n",
       "    </tr>\n",
       "    <tr>\n",
       "      <th>width</th>\n",
       "      <td>4996.571385</td>\n",
       "      <td>4360.629650</td>\n",
       "      <td>4586.631863</td>\n",
       "      <td>4425.324584</td>\n",
       "      <td>4715.982229</td>\n",
       "    </tr>\n",
       "    <tr>\n",
       "      <th>highway_mpg</th>\n",
       "      <td>4739.653891</td>\n",
       "      <td>4256.584038</td>\n",
       "      <td>4457.947353</td>\n",
       "      <td>4562.009482</td>\n",
       "      <td>4827.296451</td>\n",
       "    </tr>\n",
       "    <tr>\n",
       "      <th>horsepower</th>\n",
       "      <td>4489.554932</td>\n",
       "      <td>4481.678972</td>\n",
       "      <td>4928.543248</td>\n",
       "      <td>5195.750741</td>\n",
       "      <td>5159.660348</td>\n",
       "    </tr>\n",
       "    <tr>\n",
       "      <th>engine_size</th>\n",
       "      <td>3489.244529</td>\n",
       "      <td>3117.548910</td>\n",
       "      <td>3247.858492</td>\n",
       "      <td>3621.839678</td>\n",
       "      <td>3934.741570</td>\n",
       "    </tr>\n",
       "  </tbody>\n",
       "</table>\n",
       "</div>"
      ],
      "text/plain": [
       "                              1             3            5            7  \\\n",
       "num_doors          20364.033248  13006.984283  9724.044937  9051.907498   \n",
       "symboling          15107.116264  10275.875524  9969.442423  9541.604233   \n",
       "height             10889.539461   8567.789618  8471.473079  8137.528221   \n",
       "compression_ratio   7838.400373   7012.187434  6654.971495  6533.591538   \n",
       "normalized_losses   7813.919391   7765.191111  8087.816916  8089.732998   \n",
       "peak_rpm            7514.818290   7422.196486  8243.362449  7920.649600   \n",
       "num_cylinders       6886.336993   5646.719551  5615.498645  5936.366056   \n",
       "wheel_base          6332.159353   5691.155680  5879.632781  5933.800412   \n",
       "length              6258.164658   5764.587398  5823.219231  5855.722065   \n",
       "city_mpg            5634.707013   4295.143746  4453.397655  4308.397540   \n",
       "curb_weight         5007.487233   4142.948725  4277.090667  4352.419973   \n",
       "width               4996.571385   4360.629650  4586.631863  4425.324584   \n",
       "highway_mpg         4739.653891   4256.584038  4457.947353  4562.009482   \n",
       "horsepower          4489.554932   4481.678972  4928.543248  5195.750741   \n",
       "engine_size         3489.244529   3117.548910  3247.858492  3621.839678   \n",
       "\n",
       "                             9  \n",
       "num_doors          8945.791131  \n",
       "symboling          8865.652751  \n",
       "height             8215.912288  \n",
       "compression_ratio  6776.214585  \n",
       "normalized_losses  8014.211284  \n",
       "peak_rpm           7923.688119  \n",
       "num_cylinders      6030.995271  \n",
       "wheel_base         6007.526484  \n",
       "length             5901.629001  \n",
       "city_mpg           4701.149969  \n",
       "curb_weight        4774.595282  \n",
       "width              4715.982229  \n",
       "highway_mpg        4827.296451  \n",
       "horsepower         5159.660348  \n",
       "engine_size        3934.741570  "
      ]
     },
     "execution_count": 29,
     "metadata": {},
     "output_type": "execute_result"
    }
   ],
   "source": [
    "#Converting dictionary to dataframe\n",
    "k_error_data=pd.DataFrame(k_col_rmse)\n",
    "k_error_data=k_error_data.transpose().sort_values(by=1, ascending=False)\n",
    "\n",
    "#Columns represent different k-values\n",
    "k_error_data"
   ]
  },
  {
   "cell_type": "code",
   "execution_count": 30,
   "metadata": {},
   "outputs": [
    {
     "data": {
      "image/png": "[encoded data removed]",
      "text/plain": [
       "<Figure size 720x720 with 2 Axes>"
      ]
     },
     "metadata": {
      "needs_background": "light"
     },
     "output_type": "display_data"
    }
   ],
   "source": [
    "import matplotlib.pyplot as plt\n",
    "import seaborn as sns \n",
    "%matplotlib inline\n",
    "\n",
    "plt.figure(figsize=(10,10))\n",
    "sns.heatmap(k_error_data, cmap=\"viridis\", annot=True, fmt='g',\n",
    "            cbar_kws={'label':'Root Mean Squared Error (USD)'},robust=True)\n",
    "plt.ylabel('Training Column')\n",
    "plt.xlabel('K Nearest Neighbors')\n",
    "plt.title('Error Between Predicted Price and Actual')\n",
    "plt.show()"
   ]
  },
  {
   "cell_type": "markdown",
   "metadata": {},
   "source": [
    "The figure above is a heatmap; at a given column and k-value, the error value is represented in the color scale. More accurate features are purple, while inaccurate features are yellow. Remember we are only using a single variable to predict price in this model."
   ]
  },
  {
   "cell_type": "code",
   "execution_count": 31,
   "metadata": {},
   "outputs": [
    {
     "data": {
      "text/plain": [
       "['engine_size',\n",
       " 'curb_weight',\n",
       " 'highway_mpg',\n",
       " 'width',\n",
       " 'city_mpg',\n",
       " 'horsepower',\n",
       " 'length',\n",
       " 'wheel_base',\n",
       " 'num_cylinders',\n",
       " 'compression_ratio',\n",
       " 'peak_rpm',\n",
       " 'normalized_losses',\n",
       " 'height',\n",
       " 'symboling',\n",
       " 'num_doors']"
      ]
     },
     "execution_count": 31,
     "metadata": {},
     "output_type": "execute_result"
    }
   ],
   "source": [
    "#Creating a ranked list of most accurate features\n",
    "best_features=k_error_data.copy()\n",
    "\n",
    "#We'll calculate rank based on the sum of all rmse values across each k\n",
    "best_features['Total']=best_features.sum(axis=1)\n",
    "best_features=best_features.sort_values(by='Total')\n",
    "\n",
    "#isolating only the feature names\n",
    "top_features=[x for x in best_features.index]\n",
    "top_features"
   ]
  },
  {
   "cell_type": "markdown",
   "metadata": {
    "collapsed": true
   },
   "source": [
    "## Multivariate Model"
   ]
  },
  {
   "cell_type": "markdown",
   "metadata": {},
   "source": [
    "Now that we have an idea of how the univariate model will behave, let's build a model that uses multiple features to predict price. Below we edit our function to use the default k-value, but multiple columns for training.\n",
    "\n",
    "Above we determined some of the best features for training, which include:\n",
    "- `engine_size` \n",
    "- `curb_weight`\n",
    "- `highway_mpg`\n",
    "- `width`\n",
    "- `city_mpg`"
   ]
  },
  {
   "cell_type": "code",
   "execution_count": 32,
   "metadata": {},
   "outputs": [],
   "source": [
    "def knn_train_test(train_cols, target_col, data):    \n",
    "    np.random.seed(1)\n",
    "    \n",
    "    #Shuffle the data\n",
    "    shuffled_index=np.random.permutation(data.index)\n",
    "    shuffled_data=data.reindex(shuffled_index)\n",
    "    \n",
    "    #Splitting data into train/test segments\n",
    "    cutoff_index=int(len(shuffled_data)*.5)\n",
    "    train_data=shuffled_data.iloc[:cutoff_index]\n",
    "    test_data=shuffled_data.iloc[cutoff_index:]\n",
    "    \n",
    "    knn=KNeighborsRegressor()\n",
    "    knn.fit(train_data[train_cols], train_data[target_col])\n",
    "    predictions=knn.predict(test_data[train_cols])\n",
    "    mse=mean_squared_error(predictions, test_data[target_col])\n",
    "    rmse=np.sqrt(mse)\n",
    "    return rmse"
   ]
  },
  {
   "cell_type": "markdown",
   "metadata": {},
   "source": [
    "Below we'll calculate the rmse values using the different numbers of the top features as training, from 2 to 5."
   ]
  },
  {
   "cell_type": "code",
   "execution_count": 33,
   "metadata": {},
   "outputs": [
    {
     "data": {
      "text/plain": [
       "2    3379.099222\n",
       "3    3627.309082\n",
       "5    3638.898915\n",
       "4    3729.445154\n",
       "dtype: float64"
      ]
     },
     "execution_count": 33,
     "metadata": {},
     "output_type": "execute_result"
    }
   ],
   "source": [
    "#Create an empty dictionary that stores output\n",
    "m_var_error={}\n",
    "\n",
    "#Iterating through the 'top_features'\n",
    "#the list is ordered, so it will use the two best features, then the three best features, etc\n",
    "for i in range(2,6):\n",
    "    m_var_error[i]=knn_train_test(top_features[:i],'price',cars_scaled)\n",
    "\n",
    "#converting dictionary to pd.Series\n",
    "mv_rmses=pd.Series(m_var_error)\n",
    "mv_rmses.sort_values(inplace=True)\n",
    "mv_rmses"
   ]
  },
  {
   "cell_type": "code",
   "execution_count": 34,
   "metadata": {},
   "outputs": [
    {
     "data": {
      "image/png": "[encoded data removed]",
      "text/plain": [
       "<Figure size 360x360 with 1 Axes>"
      ]
     },
     "metadata": {
      "needs_background": "light"
     },
     "output_type": "display_data"
    }
   ],
   "source": [
    "#Graphing results\n",
    "plt.figure(figsize=(5,5))\n",
    "plt.style.use('ggplot')\n",
    "mv_rmses.plot(kind='bar')\n",
    "plt.ylabel('Root Mean Squared Error (USD)')\n",
    "plt.ylim([3000, 4000])\n",
    "plt.xlabel('Number of Top Training Features')\n",
    "plt.xticks(rotation=0)\n",
    "plt.title('Error Between Predicted Price and Actual')\n",
    "plt.show()"
   ]
  },
  {
   "cell_type": "markdown",
   "metadata": {},
   "source": [
    "Using the default k value (5), the most accurate model used two of the top features for training. The models that used both 3 and 5 of the top features produced similar results. We observed the largest error value using the top 4 features."
   ]
  },
  {
   "cell_type": "markdown",
   "metadata": {},
   "source": [
    "### Hyperparameter Tuning"
   ]
  },
  {
   "cell_type": "markdown",
   "metadata": {},
   "source": [
    "Now that we have an idea of the number of best features to include in our model, let's test each of the best 3 models using different k values to find the optimal k value to use for predictions."
   ]
  },
  {
   "cell_type": "code",
   "execution_count": 35,
   "metadata": {},
   "outputs": [
    {
     "data": {
      "text/plain": [
       "[2, 3, 5]"
      ]
     },
     "execution_count": 35,
     "metadata": {},
     "output_type": "execute_result"
    }
   ],
   "source": [
    "top_3_models=[x for x in mv_rmses.index[:3]]\n",
    "top_3_models"
   ]
  },
  {
   "cell_type": "code",
   "execution_count": 36,
   "metadata": {},
   "outputs": [],
   "source": [
    "#redefining our train/test function to iterate through multiple k values\n",
    "def knn_train_test(train_cols, target_col, data, k):    \n",
    "    np.random.seed(1)\n",
    "    \n",
    "    #Shuffle the data\n",
    "    shuffled_index=np.random.permutation(data.index)\n",
    "    shuffled_data=data.reindex(shuffled_index)\n",
    "    \n",
    "    #Splitting data into train/test segments\n",
    "    cutoff_index=int(len(shuffled_data)*.5)\n",
    "    train_data=shuffled_data.iloc[:cutoff_index]\n",
    "    test_data=shuffled_data.iloc[cutoff_index:]\n",
    "    \n",
    "    rmses={}\n",
    "    for n in range(1,k+1):\n",
    "        knn=KNeighborsRegressor(n_neighbors=n)\n",
    "        knn.fit(train_data[train_cols], train_data[target_col])\n",
    "        predictions=knn.predict(test_data[train_cols])\n",
    "        mse=mean_squared_error(predictions, test_data[target_col])\n",
    "        rmses[n]=np.sqrt(mse)\n",
    "    return rmses"
   ]
  },
  {
   "cell_type": "code",
   "execution_count": 37,
   "metadata": {},
   "outputs": [
    {
     "data": {
      "text/html": [
       "<div>\n",
       "<style scoped>\n",
       "    .dataframe tbody tr th:only-of-type {\n",
       "        vertical-align: middle;\n",
       "    }\n",
       "\n",
       "    .dataframe tbody tr th {\n",
       "        vertical-align: top;\n",
       "    }\n",
       "\n",
       "    .dataframe thead th {\n",
       "        text-align: right;\n",
       "    }\n",
       "</style>\n",
       "<table border=\"1\" class=\"dataframe\">\n",
       "  <thead>\n",
       "    <tr style=\"text-align: right;\">\n",
       "      <th></th>\n",
       "      <th>2 feature model</th>\n",
       "      <th>3 feature model</th>\n",
       "      <th>5 feature model</th>\n",
       "    </tr>\n",
       "  </thead>\n",
       "  <tbody>\n",
       "    <tr>\n",
       "      <th>1</th>\n",
       "      <td>2683.284145</td>\n",
       "      <td>2815.290469</td>\n",
       "      <td>2912.584037</td>\n",
       "    </tr>\n",
       "    <tr>\n",
       "      <th>2</th>\n",
       "      <td>2819.239204</td>\n",
       "      <td>2669.881544</td>\n",
       "      <td>3112.726192</td>\n",
       "    </tr>\n",
       "    <tr>\n",
       "      <th>3</th>\n",
       "      <td>2973.536777</td>\n",
       "      <td>3122.480953</td>\n",
       "      <td>3294.358710</td>\n",
       "    </tr>\n",
       "    <tr>\n",
       "      <th>4</th>\n",
       "      <td>3145.211439</td>\n",
       "      <td>3239.653951</td>\n",
       "      <td>3564.253692</td>\n",
       "    </tr>\n",
       "    <tr>\n",
       "      <th>5</th>\n",
       "      <td>3379.099222</td>\n",
       "      <td>3627.309082</td>\n",
       "      <td>3638.898915</td>\n",
       "    </tr>\n",
       "  </tbody>\n",
       "</table>\n",
       "</div>"
      ],
      "text/plain": [
       "   2 feature model  3 feature model  5 feature model\n",
       "1      2683.284145      2815.290469      2912.584037\n",
       "2      2819.239204      2669.881544      3112.726192\n",
       "3      2973.536777      3122.480953      3294.358710\n",
       "4      3145.211439      3239.653951      3564.253692\n",
       "5      3379.099222      3627.309082      3638.898915"
      ]
     },
     "execution_count": 37,
     "metadata": {},
     "output_type": "execute_result"
    }
   ],
   "source": [
    "#Transferring results to a DataFrame \n",
    "k_test={}\n",
    "\n",
    "for i in top_3_models:\n",
    "    k_test[i]=knn_train_test(top_features[:i], 'price', cars_scaled, 25)\n",
    "    \n",
    "tuning=pd.DataFrame(k_test)\n",
    "tuning.rename(columns={2:'2 feature model',\n",
    "                      3:'3 feature model',\n",
    "                      5:'5 feature model'}, inplace=True)\n",
    "tuning.head()"
   ]
  },
  {
   "cell_type": "code",
   "execution_count": 38,
   "metadata": {},
   "outputs": [
    {
     "data": {
      "text/plain": [
       "<Figure size 720x720 with 0 Axes>"
      ]
     },
     "metadata": {},
     "output_type": "display_data"
    },
    {
     "data": {
      "image/png": "[encoded data removed]",
      "text/plain": [
       "<Figure size 432x288 with 1 Axes>"
      ]
     },
     "metadata": {},
     "output_type": "display_data"
    }
   ],
   "source": [
    "#plotting results as a line graph\n",
    "plt.figure(figsize=(10,10))\n",
    "plt.style.use('ggplot')\n",
    "tuning.plot(kind='line')\n",
    "plt.ylabel('Root Mean Squared Error (USD)')\n",
    "plt.xlabel('K Value')\n",
    "plt.title('Error vs K value')\n",
    "plt.show()"
   ]
  },
  {
   "cell_type": "markdown",
   "metadata": {},
   "source": [
    "After running our test, we find that these are the most accurate models:\n",
    "- 3 feature model using a k value of 2\n",
    "- 2 feature model using a k value of 1\n",
    "- 3 feature model using a k value of 1"
   ]
  },
  {
   "cell_type": "markdown",
   "metadata": {},
   "source": [
    "Before we conclude this project, let's use our most accurate model to predict the price of a modern car."
   ]
  },
  {
   "cell_type": "markdown",
   "metadata": {},
   "source": [
    "## Applying our Best Model"
   ]
  },
  {
   "cell_type": "markdown",
   "metadata": {},
   "source": [
    "Since our best model looks at the three 3 features, let's see what they are:\n",
    "- `engine_size`\n",
    "- `curb_weight`\n",
    "- `highway_mpg`\n",
    "\n",
    "Let's use our model predict the price of a 2021 Toyota Camery. It's specifications are:\n",
    "- `engine_size` - 152 cubic inches\n",
    "- `curb_weight` - 3310 pounds\n",
    "- `highway_mpg` - 39 miles per gallon\n",
    "- `price` - 25,045 USD (Based off MRSP)\n",
    "\n",
    "We'll first need to normalize our values in the context of our dataset, done below"
   ]
  },
  {
   "cell_type": "code",
   "execution_count": 39,
   "metadata": {},
   "outputs": [
    {
     "data": {
      "text/plain": [
       "engine_size        0.343396\n",
       "curb_weight        0.706749\n",
       "highway_mpg        0.605263\n",
       "price          25045.000000\n",
       "dtype: float64"
      ]
     },
     "execution_count": 39,
     "metadata": {},
     "output_type": "execute_result"
    }
   ],
   "source": [
    "def norm(x, feature):\n",
    "        return (x-cars_clean[feature].min())/(cars_clean[feature].max()-cars_clean[feature].min())\n",
    "\n",
    "tc={}\n",
    "for x, feature in zip([152, 3310, 39], ['engine_size','curb_weight','highway_mpg']):\n",
    "    tc[feature]=norm(x, feature)\n",
    "tc=pd.Series(tc, index=tc.keys())\n",
    "tc['price']=25045\n",
    "tc"
   ]
  },
  {
   "cell_type": "markdown",
   "metadata": {},
   "source": [
    "Now that we have data for our 2021 Toyota Camery, we'll build a function that will predict its price. \n",
    "\n",
    "It's important to note that, since our training data was collected in 1985, and the price of cars has gone up due to inflation, we'll adjust our prediction based off the [Consumer Price Index of new cars](https://www.in2013dollars.com/New-cars/price-inflation/1985). The Bureau of Labor Statistics estimates that the prices of new cars has increased by 43.29% since 1985. Our function will adjust the prediction price accordingly."
   ]
  },
  {
   "cell_type": "code",
   "execution_count": 40,
   "metadata": {
    "scrolled": true
   },
   "outputs": [],
   "source": [
    "def knn_train_predict(train_cols, target_col, data, k):    \n",
    "    np.random.seed(1)\n",
    "    knn=KNeighborsRegressor(n_neighbors=k)\n",
    "    #Shuffle the data\n",
    "    shuffled_index=np.random.permutation(data.index)\n",
    "    shuffled_data=data.reindex(shuffled_index)\n",
    "    \n",
    "    #Splitting data into train/test segments\n",
    "    #Since we won't need test data, we can train the model using all of the data\n",
    "    cutoff_index=int(len(shuffled_data))\n",
    "    train_data=shuffled_data.iloc[:cutoff_index]\n",
    "    knn.fit(train_data[train_cols], train_data[target_col])\n",
    "    print('The MSRP of a 2021 Toyota Camery: 25045 USD')\n",
    "    prediction=knn.predict([tc[train_cols]])\n",
    "    print('Predicted price of a 2021 Toyota Camery (in 1985 USD):',np.round(prediction[0],2),'USD')\n",
    "    #inflation adjustment\n",
    "    prediction_adjusted=prediction*1.4329\n",
    "    print('Adjusted prediction, accounting for inflation (43.29% increase since 1985):',np.round(prediction_adjusted[0],2),'USD')\n",
    "    error=abs(tc['price']-prediction_adjusted)\n",
    "    print('Error is :',np.round(error[0],2),'USD or',np.round((100*(error[0]/tc['price'])),3),'%')"
   ]
  },
  {
   "cell_type": "code",
   "execution_count": 41,
   "metadata": {},
   "outputs": [
    {
     "name": "stdout",
     "output_type": "stream",
     "text": [
      "The MSRP of a 2021 Toyota Camery: 25045 USD\n",
      "Predicted price of a 2021 Toyota Camery (in 1985 USD): 17425.0 USD\n",
      "Adjusted prediction, accounting for inflation (43.29% increase since 1985): 24968.28 USD\n",
      "Error is : 76.72 USD or 0.306 %\n"
     ]
    }
   ],
   "source": [
    "train_cols=['engine_size','curb_weight','highway_mpg']\n",
    "target_col='price'\n",
    "\n",
    "knn_train_predict(train_cols, target_col, cars_scaled, 2)"
   ]
  },
  {
   "cell_type": "markdown",
   "metadata": {},
   "source": [
    "## Conclusion"
   ]
  },
  {
   "cell_type": "markdown",
   "metadata": {
    "collapsed": true
   },
   "source": [
    "Through the testing of different models of our dataset we determined that: \n",
    "- The strongest indicators of a new car's price are: engine size ([displacement](https://en.wikipedia.org/wiki/Engine_displacement)), car weight (lbs),  and highway gas milage. On the contrary, other specifications are poor indicators of car price such as : number of doors, and symboling (measurement of safety).\n",
    "- Our model is most accurate when using 2 nearest-neighbors\n",
    "- Our model can predict the price of a 2021 Toyota Camery with 99% accuracy\n",
    "\n",
    "Although our real world test was accurate, there are definitely ways we could improve our model:\n",
    "- More Data: After cleaning, we had only 193 cars, accuracy would likely increase if we were working with a larger dataset. As a result, the error values for using a larger k value would likely go down.\n",
    "- More Recent Data: Our dataset is based off cars from 1985. Today, cars have new features and technology (Hybrid technology, GPS, Self-driving) that are not evaluated by our model. There may be better indicators of car prices today.\n",
    "- Accounting for Qualitative Features: We only included numeric data in our training in predictions. Other qualitative data may be useful in predicting price such as make or body style."
   ]
  }
 ],
 "metadata": {
  "kernelspec": {
   "display_name": "Python 3",
   "language": "python",
   "name": "python3"
  },
  "language_info": {
   "codemirror_mode": {
    "name": "ipython",
    "version": 3
   },
   "file_extension": ".py",
   "mimetype": "text/x-python",
   "name": "python",
   "nbconvert_exporter": "python",
   "pygments_lexer": "ipython3",
   "version": "3.8.8"
  }
 },
 "nbformat": 4,
 "nbformat_minor": 2
}
